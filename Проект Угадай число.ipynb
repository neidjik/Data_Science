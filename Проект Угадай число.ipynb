{
 "cells": [
  {
   "cell_type": "markdown",
   "id": "72c3b211-7d84-4b91-ab82-0845b2385dd8",
   "metadata": {},
   "source": [
    "***Проект \"УГАДАЙ ЧИСЛО\"***"
   ]
  },
  {
   "cell_type": "code",
   "execution_count": 3,
   "id": "1805f6cf-151a-4ad2-ae5f-52dd636d203b",
   "metadata": {},
   "outputs": [
    {
     "name": "stdout",
     "output_type": "stream",
     "text": [
      "Загадано число от 1 до 99\n"
     ]
    },
    {
     "name": "stdin",
     "output_type": "stream",
     "text": [
      " 6\n"
     ]
    },
    {
     "name": "stdout",
     "output_type": "stream",
     "text": [
      "Угадываемое число больше 6\n"
     ]
    },
    {
     "name": "stdin",
     "output_type": "stream",
     "text": [
      " 20\n"
     ]
    },
    {
     "name": "stdout",
     "output_type": "stream",
     "text": [
      "Угадываемое число больше 20\n"
     ]
    },
    {
     "name": "stdin",
     "output_type": "stream",
     "text": [
      " 50\n"
     ]
    },
    {
     "name": "stdout",
     "output_type": "stream",
     "text": [
      "Угадываемое число больше 50\n"
     ]
    },
    {
     "name": "stdin",
     "output_type": "stream",
     "text": [
      " 70\n"
     ]
    },
    {
     "name": "stdout",
     "output_type": "stream",
     "text": [
      "Угадываемое число больше 70\n"
     ]
    },
    {
     "name": "stdin",
     "output_type": "stream",
     "text": [
      " 80\n"
     ]
    },
    {
     "name": "stdout",
     "output_type": "stream",
     "text": [
      "Угадываемое число больше 80\n"
     ]
    },
    {
     "name": "stdin",
     "output_type": "stream",
     "text": [
      " 90\n"
     ]
    },
    {
     "name": "stdout",
     "output_type": "stream",
     "text": [
      "Угадываемое число больше 90\n"
     ]
    },
    {
     "name": "stdin",
     "output_type": "stream",
     "text": [
      " 99\n"
     ]
    },
    {
     "name": "stdout",
     "output_type": "stream",
     "text": [
      "Угадываемое число меньше 99\n"
     ]
    },
    {
     "name": "stdin",
     "output_type": "stream",
     "text": [
      " 94\n"
     ]
    },
    {
     "name": "stdout",
     "output_type": "stream",
     "text": [
      "Угадываемое число меньше 94\n"
     ]
    },
    {
     "name": "stdin",
     "output_type": "stream",
     "text": [
      " 92\n"
     ]
    },
    {
     "name": "stdout",
     "output_type": "stream",
     "text": [
      "Угадываемое число меньше 92\n"
     ]
    },
    {
     "name": "stdin",
     "output_type": "stream",
     "text": [
      " 91\n"
     ]
    },
    {
     "name": "stdout",
     "output_type": "stream",
     "text": [
      "Вы угадали число 91 за 10 попыток.\n"
     ]
    }
   ],
   "source": [
    "import numpy as np\n",
    "#Создадим счетчик попыток\n",
    "count=0\n",
    "#Загадем число\n",
    "number=np.random.randint(1,100)\n",
    "print(\"Загадано число от 1 до 99\")\n",
    "\n",
    "while True:\n",
    "    predict=int(input())\n",
    "    count+=1\n",
    "    if number==predict: break\n",
    "    elif number > predict: print(f\"Угадываемое число больше {predict}\")\n",
    "    elif number < predict: print(f\"Угадываемое число меньше {predict}\")\n",
    "print(f\"Вы угадали число {number} за {count} попыток.\")"
   ]
  },
  {
   "cell_type": "code",
   "execution_count": null,
   "id": "53ca8b63-8ab8-40bd-b2e0-831a98320662",
   "metadata": {},
   "outputs": [],
   "source": []
  }
 ],
 "metadata": {
  "kernelspec": {
   "display_name": "Python 3 (ipykernel)",
   "language": "python",
   "name": "python3"
  },
  "language_info": {
   "codemirror_mode": {
    "name": "ipython",
    "version": 3
   },
   "file_extension": ".py",
   "mimetype": "text/x-python",
   "name": "python",
   "nbconvert_exporter": "python",
   "pygments_lexer": "ipython3",
   "version": "3.9.7"
  }
 },
 "nbformat": 4,
 "nbformat_minor": 5
}
